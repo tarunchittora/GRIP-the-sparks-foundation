{
  "nbformat": 4,
  "nbformat_minor": 0,
  "metadata": {
    "colab": {
      "name": "regression case study with ANN.ipynb",
      "provenance": [],
      "authorship_tag": "ABX9TyPZo5PmyKLbi9xty5GH5B+8",
      "include_colab_link": true
    },
    "kernelspec": {
      "name": "python3",
      "display_name": "Python 3"
    },
    "language_info": {
      "name": "python"
    }
  },
  "cells": [
    {
      "cell_type": "markdown",
      "metadata": {
        "id": "view-in-github",
        "colab_type": "text"
      },
      "source": [
        "<a href=\"https://colab.research.google.com/github/tarunchittora/GRIP-the-sparks-foundation/blob/main/regression_case_study_with_ANN.ipynb\" target=\"_parent\"><img src=\"https://colab.research.google.com/assets/colab-badge.svg\" alt=\"Open In Colab\"/></a>"
      ]
    },
    {
      "cell_type": "code",
      "metadata": {
        "id": "eMfKeJqcAxQh"
      },
      "source": [
        "import numpy as np\n",
        "import pandas as pd\n",
        "import tensorflow as tf"
      ],
      "execution_count": 1,
      "outputs": []
    },
    {
      "cell_type": "code",
      "metadata": {
        "colab": {
          "base_uri": "https://localhost:8080/",
          "height": 35
        },
        "id": "iK-7uatxA8PB",
        "outputId": "1511b95b-9e74-4425-d939-8be366465183"
      },
      "source": [
        "tf.__version__"
      ],
      "execution_count": 2,
      "outputs": [
        {
          "output_type": "execute_result",
          "data": {
            "application/vnd.google.colaboratory.intrinsic+json": {
              "type": "string"
            },
            "text/plain": [
              "'2.5.0'"
            ]
          },
          "metadata": {
            "tags": []
          },
          "execution_count": 2
        }
      ]
    },
    {
      "cell_type": "code",
      "metadata": {
        "id": "jSLcpXO3A_u5"
      },
      "source": [
        "dataset=pd.read_excel(\"Folds5x2_pp.xlsx\")\n",
        "X=dataset.iloc[:,:-1].values\n",
        "y=dataset.iloc[:,-1].values"
      ],
      "execution_count": 3,
      "outputs": []
    },
    {
      "cell_type": "code",
      "metadata": {
        "id": "0E8BKnXrC3P6",
        "colab": {
          "base_uri": "https://localhost:8080/"
        },
        "outputId": "4e399b42-1fb6-462d-c81d-4a6aa6f88958"
      },
      "source": [
        "print(X)"
      ],
      "execution_count": 4,
      "outputs": [
        {
          "output_type": "stream",
          "text": [
            "[[  14.96   41.76 1024.07   73.17]\n",
            " [  25.18   62.96 1020.04   59.08]\n",
            " [   5.11   39.4  1012.16   92.14]\n",
            " ...\n",
            " [  31.32   74.33 1012.92   36.48]\n",
            " [  24.48   69.45 1013.86   62.39]\n",
            " [  21.6    62.52 1017.23   67.87]]\n"
          ],
          "name": "stdout"
        }
      ]
    },
    {
      "cell_type": "code",
      "metadata": {
        "colab": {
          "base_uri": "https://localhost:8080/"
        },
        "id": "CWkX8Yn3DVyy",
        "outputId": "982377b5-0005-436e-b4fd-e062ef91f094"
      },
      "source": [
        "print(y)"
      ],
      "execution_count": 5,
      "outputs": [
        {
          "output_type": "stream",
          "text": [
            "[463.26 444.37 488.56 ... 429.57 435.74 453.28]\n"
          ],
          "name": "stdout"
        }
      ]
    },
    {
      "cell_type": "code",
      "metadata": {
        "id": "llxablPxDXZY"
      },
      "source": [
        "from sklearn.model_selection import train_test_split\n",
        "X_train,X_test,y_train,y_test=train_test_split(X,y,test_size=0.2,random_state=0)"
      ],
      "execution_count": 6,
      "outputs": []
    },
    {
      "cell_type": "code",
      "metadata": {
        "id": "Lou7VpOWEfgG"
      },
      "source": [
        "ann = tf.keras.models.Sequential()"
      ],
      "execution_count": 7,
      "outputs": []
    },
    {
      "cell_type": "code",
      "metadata": {
        "id": "mEq0deF_GPJP"
      },
      "source": [
        "ann.add(tf.keras.layers.Dense(units=6,activation='relu'))\n",
        "ann.add(tf.keras.layers.Dense(units=6,activation='relu'))\n",
        "ann.add(tf.keras.layers.Dense(units=1))"
      ],
      "execution_count": 8,
      "outputs": []
    },
    {
      "cell_type": "code",
      "metadata": {
        "id": "VK8hnw9nINl1"
      },
      "source": [
        "ann.compile(optimizer=\"adam\",loss=\"mean_squared_error\")"
      ],
      "execution_count": 9,
      "outputs": []
    },
    {
      "cell_type": "code",
      "metadata": {
        "colab": {
          "base_uri": "https://localhost:8080/"
        },
        "id": "V_n-GM_AJgi1",
        "outputId": "20e3225a-2bcd-47d0-ce17-ae20a73fe5fd"
      },
      "source": [
        "ann.fit(X_train,y_train,batch_size=32,epochs=100 )"
      ],
      "execution_count": 10,
      "outputs": [
        {
          "output_type": "stream",
          "text": [
            "Epoch 1/100\n",
            "240/240 [==============================] - 1s 1ms/step - loss: 53898.6680\n",
            "Epoch 2/100\n",
            "240/240 [==============================] - 0s 1ms/step - loss: 390.3973\n",
            "Epoch 3/100\n",
            "240/240 [==============================] - 0s 1ms/step - loss: 354.9196\n",
            "Epoch 4/100\n",
            "240/240 [==============================] - 0s 1ms/step - loss: 314.5833\n",
            "Epoch 5/100\n",
            "240/240 [==============================] - 0s 1ms/step - loss: 272.6021\n",
            "Epoch 6/100\n",
            "240/240 [==============================] - 0s 1ms/step - loss: 232.0410\n",
            "Epoch 7/100\n",
            "240/240 [==============================] - 0s 1ms/step - loss: 194.2329\n",
            "Epoch 8/100\n",
            "240/240 [==============================] - 0s 1ms/step - loss: 159.7309\n",
            "Epoch 9/100\n",
            "240/240 [==============================] - 0s 1ms/step - loss: 130.7686\n",
            "Epoch 10/100\n",
            "240/240 [==============================] - 0s 1ms/step - loss: 107.0350\n",
            "Epoch 11/100\n",
            "240/240 [==============================] - 0s 1ms/step - loss: 88.7609\n",
            "Epoch 12/100\n",
            "240/240 [==============================] - 0s 1ms/step - loss: 73.1981\n",
            "Epoch 13/100\n",
            "240/240 [==============================] - 0s 1ms/step - loss: 62.1467\n",
            "Epoch 14/100\n",
            "240/240 [==============================] - 0s 1ms/step - loss: 52.8285\n",
            "Epoch 15/100\n",
            "240/240 [==============================] - 0s 1ms/step - loss: 46.4522\n",
            "Epoch 16/100\n",
            "240/240 [==============================] - 0s 1ms/step - loss: 41.7444\n",
            "Epoch 17/100\n",
            "240/240 [==============================] - 0s 1ms/step - loss: 37.0456\n",
            "Epoch 18/100\n",
            "240/240 [==============================] - 0s 1ms/step - loss: 34.5153\n",
            "Epoch 19/100\n",
            "240/240 [==============================] - 0s 1ms/step - loss: 32.9660\n",
            "Epoch 20/100\n",
            "240/240 [==============================] - 0s 1ms/step - loss: 31.5462\n",
            "Epoch 21/100\n",
            "240/240 [==============================] - 0s 1ms/step - loss: 30.5015\n",
            "Epoch 22/100\n",
            "240/240 [==============================] - 0s 1ms/step - loss: 30.3135\n",
            "Epoch 23/100\n",
            "240/240 [==============================] - 0s 1ms/step - loss: 30.4648\n",
            "Epoch 24/100\n",
            "240/240 [==============================] - 0s 1ms/step - loss: 29.2066\n",
            "Epoch 25/100\n",
            "240/240 [==============================] - 0s 1ms/step - loss: 28.6017\n",
            "Epoch 26/100\n",
            "240/240 [==============================] - 0s 1ms/step - loss: 29.6704\n",
            "Epoch 27/100\n",
            "240/240 [==============================] - 0s 1ms/step - loss: 28.7838\n",
            "Epoch 28/100\n",
            "240/240 [==============================] - 0s 1ms/step - loss: 28.0152\n",
            "Epoch 29/100\n",
            "240/240 [==============================] - 0s 1ms/step - loss: 28.0398\n",
            "Epoch 30/100\n",
            "240/240 [==============================] - 0s 1ms/step - loss: 28.0420\n",
            "Epoch 31/100\n",
            "240/240 [==============================] - 0s 1ms/step - loss: 27.8765\n",
            "Epoch 32/100\n",
            "240/240 [==============================] - 0s 1ms/step - loss: 28.1134\n",
            "Epoch 33/100\n",
            "240/240 [==============================] - 0s 1ms/step - loss: 28.3041\n",
            "Epoch 34/100\n",
            "240/240 [==============================] - 0s 1ms/step - loss: 28.3371\n",
            "Epoch 35/100\n",
            "240/240 [==============================] - 0s 1ms/step - loss: 28.1948\n",
            "Epoch 36/100\n",
            "240/240 [==============================] - 0s 1ms/step - loss: 27.1747\n",
            "Epoch 37/100\n",
            "240/240 [==============================] - 0s 1ms/step - loss: 28.1166\n",
            "Epoch 38/100\n",
            "240/240 [==============================] - 0s 1ms/step - loss: 27.4529\n",
            "Epoch 39/100\n",
            "240/240 [==============================] - 0s 1ms/step - loss: 27.1954\n",
            "Epoch 40/100\n",
            "240/240 [==============================] - 0s 1ms/step - loss: 27.6863\n",
            "Epoch 41/100\n",
            "240/240 [==============================] - 0s 1ms/step - loss: 28.1284\n",
            "Epoch 42/100\n",
            "240/240 [==============================] - 0s 1ms/step - loss: 27.9641\n",
            "Epoch 43/100\n",
            "240/240 [==============================] - 0s 1ms/step - loss: 27.6496\n",
            "Epoch 44/100\n",
            "240/240 [==============================] - 0s 1ms/step - loss: 28.2896\n",
            "Epoch 45/100\n",
            "240/240 [==============================] - 0s 1ms/step - loss: 27.2695\n",
            "Epoch 46/100\n",
            "240/240 [==============================] - 0s 1ms/step - loss: 27.7844\n",
            "Epoch 47/100\n",
            "240/240 [==============================] - 0s 1ms/step - loss: 29.1628\n",
            "Epoch 48/100\n",
            "240/240 [==============================] - 0s 1ms/step - loss: 27.7793\n",
            "Epoch 49/100\n",
            "240/240 [==============================] - 0s 1ms/step - loss: 28.1872\n",
            "Epoch 50/100\n",
            "240/240 [==============================] - 0s 1ms/step - loss: 27.1230\n",
            "Epoch 51/100\n",
            "240/240 [==============================] - 0s 1ms/step - loss: 27.6945\n",
            "Epoch 52/100\n",
            "240/240 [==============================] - 0s 1ms/step - loss: 27.7161\n",
            "Epoch 53/100\n",
            "240/240 [==============================] - 0s 1ms/step - loss: 27.5184\n",
            "Epoch 54/100\n",
            "240/240 [==============================] - 0s 1ms/step - loss: 28.1589\n",
            "Epoch 55/100\n",
            "240/240 [==============================] - 0s 1ms/step - loss: 27.3170\n",
            "Epoch 56/100\n",
            "240/240 [==============================] - 0s 1ms/step - loss: 27.5786\n",
            "Epoch 57/100\n",
            "240/240 [==============================] - 0s 1ms/step - loss: 27.7169\n",
            "Epoch 58/100\n",
            "240/240 [==============================] - 0s 1ms/step - loss: 27.5180\n",
            "Epoch 59/100\n",
            "240/240 [==============================] - 0s 1ms/step - loss: 28.2350\n",
            "Epoch 60/100\n",
            "240/240 [==============================] - 0s 1ms/step - loss: 28.6614\n",
            "Epoch 61/100\n",
            "240/240 [==============================] - 0s 1ms/step - loss: 27.0249\n",
            "Epoch 62/100\n",
            "240/240 [==============================] - 0s 1ms/step - loss: 27.4098\n",
            "Epoch 63/100\n",
            "240/240 [==============================] - 0s 1ms/step - loss: 29.3652\n",
            "Epoch 64/100\n",
            "240/240 [==============================] - 0s 1ms/step - loss: 27.2966\n",
            "Epoch 65/100\n",
            "240/240 [==============================] - 0s 1ms/step - loss: 27.9610\n",
            "Epoch 66/100\n",
            "240/240 [==============================] - 0s 1ms/step - loss: 28.6842\n",
            "Epoch 67/100\n",
            "240/240 [==============================] - 0s 1ms/step - loss: 27.8031\n",
            "Epoch 68/100\n",
            "240/240 [==============================] - 0s 1ms/step - loss: 28.2424\n",
            "Epoch 69/100\n",
            "240/240 [==============================] - 0s 1ms/step - loss: 27.0337\n",
            "Epoch 70/100\n",
            "240/240 [==============================] - 0s 1ms/step - loss: 27.4880\n",
            "Epoch 71/100\n",
            "240/240 [==============================] - 0s 1ms/step - loss: 28.8099\n",
            "Epoch 72/100\n",
            "240/240 [==============================] - 0s 1ms/step - loss: 28.0277\n",
            "Epoch 73/100\n",
            "240/240 [==============================] - 0s 1ms/step - loss: 27.1904\n",
            "Epoch 74/100\n",
            "240/240 [==============================] - 0s 1ms/step - loss: 29.0764\n",
            "Epoch 75/100\n",
            "240/240 [==============================] - 0s 1ms/step - loss: 28.2518\n",
            "Epoch 76/100\n",
            "240/240 [==============================] - 0s 1ms/step - loss: 27.3681\n",
            "Epoch 77/100\n",
            "240/240 [==============================] - 0s 1ms/step - loss: 28.5079\n",
            "Epoch 78/100\n",
            "240/240 [==============================] - 0s 1ms/step - loss: 27.4024\n",
            "Epoch 79/100\n",
            "240/240 [==============================] - 0s 1ms/step - loss: 27.7576\n",
            "Epoch 80/100\n",
            "240/240 [==============================] - 0s 1ms/step - loss: 27.2288\n",
            "Epoch 81/100\n",
            "240/240 [==============================] - 0s 1ms/step - loss: 27.1152\n",
            "Epoch 82/100\n",
            "240/240 [==============================] - 0s 1ms/step - loss: 28.3046\n",
            "Epoch 83/100\n",
            "240/240 [==============================] - 0s 1ms/step - loss: 28.6069\n",
            "Epoch 84/100\n",
            "240/240 [==============================] - 0s 1ms/step - loss: 27.3362\n",
            "Epoch 85/100\n",
            "240/240 [==============================] - 0s 1ms/step - loss: 27.9704\n",
            "Epoch 86/100\n",
            "240/240 [==============================] - 0s 1ms/step - loss: 28.8568\n",
            "Epoch 87/100\n",
            "240/240 [==============================] - 0s 1ms/step - loss: 27.8734\n",
            "Epoch 88/100\n",
            "240/240 [==============================] - 0s 1ms/step - loss: 28.1033\n",
            "Epoch 89/100\n",
            "240/240 [==============================] - 0s 1ms/step - loss: 28.3895\n",
            "Epoch 90/100\n",
            "240/240 [==============================] - 0s 1ms/step - loss: 27.3918\n",
            "Epoch 91/100\n",
            "240/240 [==============================] - 0s 1ms/step - loss: 27.1858\n",
            "Epoch 92/100\n",
            "240/240 [==============================] - 0s 1ms/step - loss: 27.1336\n",
            "Epoch 93/100\n",
            "240/240 [==============================] - 0s 1ms/step - loss: 27.3766\n",
            "Epoch 94/100\n",
            "240/240 [==============================] - 0s 1ms/step - loss: 27.7411\n",
            "Epoch 95/100\n",
            "240/240 [==============================] - 0s 1ms/step - loss: 27.8793\n",
            "Epoch 96/100\n",
            "240/240 [==============================] - 0s 1ms/step - loss: 27.8765\n",
            "Epoch 97/100\n",
            "240/240 [==============================] - 0s 1ms/step - loss: 28.0119\n",
            "Epoch 98/100\n",
            "240/240 [==============================] - 0s 1ms/step - loss: 27.2418\n",
            "Epoch 99/100\n",
            "240/240 [==============================] - 0s 1ms/step - loss: 27.0328\n",
            "Epoch 100/100\n",
            "240/240 [==============================] - 0s 1ms/step - loss: 28.5340\n"
          ],
          "name": "stdout"
        },
        {
          "output_type": "execute_result",
          "data": {
            "text/plain": [
              "<tensorflow.python.keras.callbacks.History at 0x7f547fec3510>"
            ]
          },
          "metadata": {
            "tags": []
          },
          "execution_count": 10
        }
      ]
    },
    {
      "cell_type": "code",
      "metadata": {
        "colab": {
          "base_uri": "https://localhost:8080/"
        },
        "id": "CaOe2Ld9Kg-o",
        "outputId": "675f89c6-4eb0-455e-c573-58d17f6e139b"
      },
      "source": [
        "y_pred=ann.predict(X_test)\n",
        "np.set_printoptions(precision=2)\n",
        "print(np.concatenate((y_pred.reshape(len(y_pred),1),y_test.reshape(len(y_test),1)),1))\n",
        "\n"
      ],
      "execution_count": 13,
      "outputs": [
        {
          "output_type": "stream",
          "text": [
            "[[427.34 431.23]\n",
            " [458.3  460.01]\n",
            " [461.77 461.14]\n",
            " ...\n",
            " [469.03 473.26]\n",
            " [435.94 438.  ]\n",
            " [455.11 463.28]]\n"
          ],
          "name": "stdout"
        }
      ]
    },
    {
      "cell_type": "code",
      "metadata": {
        "id": "f7dGnWCPxFas"
      },
      "source": [
        ""
      ],
      "execution_count": null,
      "outputs": []
    }
  ]
}